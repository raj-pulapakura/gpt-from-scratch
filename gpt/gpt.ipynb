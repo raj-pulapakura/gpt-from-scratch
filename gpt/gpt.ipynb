{
 "cells": [
  {
   "cell_type": "markdown",
   "metadata": {},
   "source": [
    "# Preliminaries"
   ]
  },
  {
   "cell_type": "markdown",
   "metadata": {},
   "source": [
    "Load dataset"
   ]
  },
  {
   "cell_type": "code",
   "execution_count": 1,
   "metadata": {},
   "outputs": [],
   "source": [
    "with open(\"shakespeare.txt\", \"r\", encoding=\"utf-8\") as f:\n",
    "    text = f.read()"
   ]
  },
  {
   "cell_type": "code",
   "execution_count": 2,
   "metadata": {},
   "outputs": [
    {
     "name": "stdout",
     "output_type": "stream",
     "text": [
      "Number of chars in dataset: 1115394\n"
     ]
    }
   ],
   "source": [
    "print(f\"Number of chars in dataset: {len(text)}\")"
   ]
  },
  {
   "cell_type": "code",
   "execution_count": 3,
   "metadata": {},
   "outputs": [
    {
     "name": "stdout",
     "output_type": "stream",
     "text": [
      "First Citizen:\n",
      "Before we proceed any further, hear me speak.\n",
      "\n",
      "All:\n",
      "Speak, speak.\n",
      "\n",
      "First Citizen:\n",
      "You\n"
     ]
    }
   ],
   "source": [
    "print(text[:100])"
   ]
  },
  {
   "cell_type": "markdown",
   "metadata": {},
   "source": [
    "Build vocabulary"
   ]
  },
  {
   "cell_type": "code",
   "execution_count": 18,
   "metadata": {},
   "outputs": [
    {
     "name": "stdout",
     "output_type": "stream",
     "text": [
      "vocab_size=65\n"
     ]
    },
    {
     "data": {
      "text/plain": [
       "\"\\n !$&',-.3:;?ABCDEFGHIJKLMNOPQRSTUVWXYZabcdefghijklmnopqrstuvwxyz\""
      ]
     },
     "execution_count": 18,
     "metadata": {},
     "output_type": "execute_result"
    }
   ],
   "source": [
    "chars = sorted(list(set(text)))\n",
    "vocab_size = len(chars)\n",
    "print(f\"{vocab_size=}\")\n",
    "\"\".join(chars)"
   ]
  },
  {
   "cell_type": "markdown",
   "metadata": {},
   "source": [
    "Create \"char to index\" and \"index to char\" mappings"
   ]
  },
  {
   "cell_type": "code",
   "execution_count": 9,
   "metadata": {},
   "outputs": [],
   "source": [
    "stoi = { s:i for i, s in enumerate(chars) }\n",
    "itos = { i:s for s, i in stoi.items() }"
   ]
  },
  {
   "cell_type": "code",
   "execution_count": 10,
   "metadata": {},
   "outputs": [
    {
     "data": {
      "text/plain": [
       "4"
      ]
     },
     "execution_count": 10,
     "metadata": {},
     "output_type": "execute_result"
    }
   ],
   "source": [
    "stoi[\"&\"]"
   ]
  },
  {
   "cell_type": "code",
   "execution_count": 11,
   "metadata": {},
   "outputs": [
    {
     "data": {
      "text/plain": [
       "'&'"
      ]
     },
     "execution_count": 11,
     "metadata": {},
     "output_type": "execute_result"
    }
   ],
   "source": [
    "itos[4]"
   ]
  },
  {
   "cell_type": "code",
   "execution_count": 108,
   "metadata": {},
   "outputs": [],
   "source": [
    "encode = lambda s: [stoi[c] for c in s] # encodes a string\n",
    "decode = lambda e: \"\".join([itos[i] for i in e]) # decodes an encoding"
   ]
  },
  {
   "cell_type": "code",
   "execution_count": 109,
   "metadata": {},
   "outputs": [
    {
     "data": {
      "text/plain": [
       "[20, 43, 50, 50, 53, 1, 61, 53, 56, 50, 42]"
      ]
     },
     "execution_count": 109,
     "metadata": {},
     "output_type": "execute_result"
    }
   ],
   "source": [
    "encode(\"Hello world\")"
   ]
  },
  {
   "cell_type": "code",
   "execution_count": 110,
   "metadata": {},
   "outputs": [
    {
     "data": {
      "text/plain": [
       "'Hello world'"
      ]
     },
     "execution_count": 110,
     "metadata": {},
     "output_type": "execute_result"
    }
   ],
   "source": [
    "decode([20, 43, 50, 50, 53, 1, 61, 53, 56, 50, 42])"
   ]
  },
  {
   "cell_type": "markdown",
   "metadata": {},
   "source": [
    "Tokenize dataset"
   ]
  },
  {
   "cell_type": "code",
   "execution_count": 16,
   "metadata": {},
   "outputs": [
    {
     "data": {
      "text/plain": [
       "torch.Size([1115394])"
      ]
     },
     "execution_count": 16,
     "metadata": {},
     "output_type": "execute_result"
    }
   ],
   "source": [
    "import torch\n",
    "\n",
    "data = torch.tensor(encode(text), dtype=torch.long)\n",
    "data.shape"
   ]
  },
  {
   "cell_type": "code",
   "execution_count": 17,
   "metadata": {},
   "outputs": [
    {
     "data": {
      "text/plain": [
       "tensor([18, 47, 56, 57, 58,  1, 15, 47, 58, 47, 64, 43, 52, 10,  0, 14, 43, 44,\n",
       "        53, 56, 43,  1, 61, 43,  1, 54, 56, 53, 41, 43, 43, 42,  1, 39, 52, 63,\n",
       "         1, 44, 59, 56, 58, 46, 43, 56,  6,  1, 46, 43, 39, 56,  1, 51, 43,  1,\n",
       "        57, 54, 43, 39, 49,  8,  0,  0, 13, 50, 50, 10,  0, 31, 54, 43, 39, 49,\n",
       "         6,  1, 57, 54, 43, 39, 49,  8,  0,  0, 18, 47, 56, 57, 58,  1, 15, 47,\n",
       "        58, 47, 64, 43, 52, 10,  0, 37, 53, 59])"
      ]
     },
     "execution_count": 17,
     "metadata": {},
     "output_type": "execute_result"
    }
   ],
   "source": [
    "data[:100]"
   ]
  },
  {
   "cell_type": "markdown",
   "metadata": {},
   "source": [
    "Split dataset into train and validation"
   ]
  },
  {
   "cell_type": "code",
   "execution_count": 19,
   "metadata": {},
   "outputs": [
    {
     "name": "stdout",
     "output_type": "stream",
     "text": [
      "torch.Size([1003854])\n",
      "torch.Size([111540])\n"
     ]
    }
   ],
   "source": [
    "n = int(0.9*len(data))\n",
    "\n",
    "train_data = data[:n]\n",
    "val_data = data[n:]\n",
    "\n",
    "print(train_data.shape)\n",
    "print(val_data.shape)"
   ]
  },
  {
   "cell_type": "markdown",
   "metadata": {},
   "source": [
    "Experimenting with context length"
   ]
  },
  {
   "cell_type": "code",
   "execution_count": 32,
   "metadata": {},
   "outputs": [
    {
     "data": {
      "text/plain": [
       "[18, 47, 56, 57, 58, 1, 15, 47, 58]"
      ]
     },
     "execution_count": 32,
     "metadata": {},
     "output_type": "execute_result"
    }
   ],
   "source": [
    "context_len = 8\n",
    "sample = train_data[:context_len+1].tolist()\n",
    "sample"
   ]
  },
  {
   "cell_type": "code",
   "execution_count": 34,
   "metadata": {},
   "outputs": [
    {
     "name": "stdout",
     "output_type": "stream",
     "text": [
      "Input ==> Target\n",
      "----------------\n",
      "[18] ==> 47\n",
      "[18, 47] ==> 56\n",
      "[18, 47, 56] ==> 57\n",
      "[18, 47, 56, 57] ==> 58\n",
      "[18, 47, 56, 57, 58] ==> 1\n",
      "[18, 47, 56, 57, 58, 1] ==> 15\n",
      "[18, 47, 56, 57, 58, 1, 15] ==> 47\n",
      "[18, 47, 56, 57, 58, 1, 15, 47] ==> 58\n"
     ]
    }
   ],
   "source": [
    "print(\"Input ==> Target\")\n",
    "print(\"----------------\")\n",
    "\n",
    "for i in range(context_len):\n",
    "    x = sample[:i+1]\n",
    "    y = sample[i+1]\n",
    "    print(f\"{x} ==> {y}\")"
   ]
  },
  {
   "cell_type": "code",
   "execution_count": 36,
   "metadata": {},
   "outputs": [
    {
     "name": "stdout",
     "output_type": "stream",
     "text": [
      "Input (with padding) ==> Target\n",
      "-------------------------------\n",
      "[0, 0, 0, 0, 0, 0, 0, 18] ==> 47\n",
      "[0, 0, 0, 0, 0, 0, 18, 47] ==> 56\n",
      "[0, 0, 0, 0, 0, 18, 47, 56] ==> 57\n",
      "[0, 0, 0, 0, 18, 47, 56, 57] ==> 58\n",
      "[0, 0, 0, 18, 47, 56, 57, 58] ==> 1\n",
      "[0, 0, 18, 47, 56, 57, 58, 1] ==> 15\n",
      "[0, 18, 47, 56, 57, 58, 1, 15] ==> 47\n",
      "[18, 47, 56, 57, 58, 1, 15, 47] ==> 58\n"
     ]
    }
   ],
   "source": [
    "print(\"Input (with padding) ==> Target\")\n",
    "print(\"-------------------------------\")\n",
    "\n",
    "for i in range(context_len):\n",
    "    x = [0] * (context_len-(i+1)) + sample[:i+1]\n",
    "    y = sample[i+1]\n",
    "    print(f\"{x} ==> {y}\")"
   ]
  },
  {
   "cell_type": "markdown",
   "metadata": {},
   "source": [
    "Function to get a batch"
   ]
  },
  {
   "cell_type": "code",
   "execution_count": 92,
   "metadata": {},
   "outputs": [
    {
     "name": "stdout",
     "output_type": "stream",
     "text": [
      "------\n",
      "inputs\n",
      "torch.Size([4, 8])\n",
      "tensor([[24, 43, 58,  5, 57,  1, 46, 43],\n",
      "        [44, 53, 56,  1, 58, 46, 39, 58],\n",
      "        [52, 58,  1, 58, 46, 39, 58,  1],\n",
      "        [25, 17, 27, 10,  0, 21,  1, 54]])\n",
      "-------\n",
      "targets\n",
      "torch.Size([4, 8])\n",
      "tensor([[43, 58,  5, 57,  1, 46, 43, 39],\n",
      "        [53, 56,  1, 58, 46, 39, 58,  1],\n",
      "        [58,  1, 58, 46, 39, 58,  1, 46],\n",
      "        [17, 27, 10,  0, 21,  1, 54, 39]])\n"
     ]
    }
   ],
   "source": [
    "torch.manual_seed(1337)\n",
    "\n",
    "# params\n",
    "batch_size = 4\n",
    "context_len = 8\n",
    "\n",
    "def get_batch(split):\n",
    "    data = train_data if split == \"train\" else val_data\n",
    "    # get \"batch_size\" number of random indices\n",
    "    ixs = torch.randint(low=0, high=len(data)-context_len, size=(batch_size,))\n",
    "    # get inputs\n",
    "    x = torch.stack([data[i:i+context_len] for i in ixs])\n",
    "    # get labels\n",
    "    y = torch.stack([data[i+1:i+context_len+1] for i in ixs])\n",
    "    return x, y\n",
    "\n",
    "# get a sample batch\n",
    "xb, yb = get_batch(\"train\")\n",
    "\n",
    "print(\"------\")\n",
    "print(\"inputs\")\n",
    "print(xb.shape)\n",
    "print(xb)\n",
    "print(\"-------\")\n",
    "print(\"targets\")\n",
    "print(yb.shape)\n",
    "print(yb)"
   ]
  },
  {
   "cell_type": "markdown",
   "metadata": {},
   "source": [
    "# BigramLanguageModel"
   ]
  },
  {
   "cell_type": "markdown",
   "metadata": {},
   "source": [
    "What is the expected negative log likelihood of a completely uniform model?\n"
   ]
  },
  {
   "cell_type": "code",
   "execution_count": 93,
   "metadata": {},
   "outputs": [
    {
     "data": {
      "text/plain": [
       "tensor(4.1744)"
      ]
     },
     "execution_count": 93,
     "metadata": {},
     "output_type": "execute_result"
    }
   ],
   "source": [
    "-torch.log(torch.tensor(1/vocab_size))"
   ]
  },
  {
   "cell_type": "markdown",
   "metadata": {},
   "source": [
    "Define the model"
   ]
  },
  {
   "cell_type": "code",
   "execution_count": 155,
   "metadata": {},
   "outputs": [
    {
     "name": "stdout",
     "output_type": "stream",
     "text": [
      "torch.Size([256, 65])\n",
      "tensor(4.5040, grad_fn=<NllLossBackward0>)\n"
     ]
    }
   ],
   "source": [
    "import torch.nn as nn\n",
    "from torch.nn import functional as F\n",
    "\n",
    "# bigram model doesn't really care about context length\n",
    "# it simply predicts the next character based on the prev character\n",
    "\n",
    "class BigramLanguageModel(nn.Module):\n",
    "    def __init__(self, vocab_size):\n",
    "        super().__init__()\n",
    "        # interesting how the output dimension is vocab_size\n",
    "        self.embedding_table = nn.Embedding(vocab_size, vocab_size)\n",
    "        # this is a very simple model\n",
    "        # the embedding can be directly interpreted as the logits (predictions for next token)\n",
    "\n",
    "    def forward(self, x, y=None):\n",
    "        # x: (B, T)\n",
    "        # y: (B, T)\n",
    "        # embedding table essentially replaces each index with its corresponding embedding\n",
    "        logits = self.embedding_table(x) # logits: (B, T, C)\n",
    "        # calculate loss:\n",
    "        if y is None:\n",
    "            loss = None\n",
    "        else:\n",
    "            B, T, C = logits.shape\n",
    "            logits = logits.view(B*T, C)\n",
    "            y = y.view(-1)\n",
    "            loss = F.cross_entropy(logits, y)\n",
    "        return logits, loss\n",
    "    \n",
    "    def generate(self, x, max_new_tokens):\n",
    "        \"\"\"\n",
    "        quick note about this method:\n",
    "        this is a simple bigram model, so it only needs the immediate previous\n",
    "        character to predict the next token\n",
    "        however this method's implementation feeds the entire previous context,\n",
    "        and then we just extract the last prediction\n",
    "        this is obviously inefficient, as we could simply pass the most recent token,\n",
    "        to predict the next one\n",
    "        however this method's implementation will scale to more complex architectures,\n",
    "        which actually care about context length :)        \n",
    "        \"\"\"\n",
    "        # x: (B, T)\n",
    "        for _ in range(max_new_tokens):\n",
    "            # get predictions\n",
    "            logits, _ = self(x) # logits: (B, C, T)\n",
    "            # for each prediction, get last timestep prediction\n",
    "            logits = logits[:, -1, :] # (B, C)\n",
    "            # calculate probs\n",
    "            probs = F.softmax(logits, dim=-1) # (B, C)\n",
    "            # sample from the distribution\n",
    "            idx_next = torch.multinomial(probs, num_samples=1, replacement=True)\n",
    "            # append sampled index to the running sequence\n",
    "            x = torch.cat((x, idx_next), dim=1) # (B, T+1)\n",
    "        return x\n",
    "\n",
    "m = BigramLanguageModel(vocab_size)\n",
    "logits, loss = m(xb, yb)\n",
    "print(logits.shape)\n",
    "print(loss)"
   ]
  },
  {
   "cell_type": "markdown",
   "metadata": {},
   "source": [
    "Sample generation before training"
   ]
  },
  {
   "cell_type": "code",
   "execution_count": 158,
   "metadata": {},
   "outputs": [
    {
     "data": {
      "text/plain": [
       "tensor([[0]])"
      ]
     },
     "execution_count": 158,
     "metadata": {},
     "output_type": "execute_result"
    }
   ],
   "source": [
    "inputs = torch.zeros((1, 1), dtype=torch.long)\n",
    "inputs"
   ]
  },
  {
   "cell_type": "code",
   "execution_count": 159,
   "metadata": {},
   "outputs": [
    {
     "data": {
      "text/plain": [
       "tensor([[ 0, 19, 60, 19, 56, 46, 55, 43,  1, 37, 11, 41, 47, 41, 49, 24, 41, 37,\n",
       "         63, 40, 22, 36, 44,  5,  4, 34, 64, 48, 46, 16, 40, 35, 27,  8,  8,  3,\n",
       "         49, 25, 46, 63, 16, 61, 12, 18, 32, 41, 29, 52, 18, 15, 51, 54, 42, 16,\n",
       "         13, 51, 43, 58, 41, 18,  4, 24, 22, 46, 46, 10, 53, 26, 48, 36,  9,  5,\n",
       "         56, 62, 56, 25, 21, 12, 17, 32, 21,  0, 63, 14, 61,  6, 48, 42, 26, 36,\n",
       "         42,  1,  1, 13, 35, 20, 27, 39, 47, 61, 27]])"
      ]
     },
     "execution_count": 159,
     "metadata": {},
     "output_type": "execute_result"
    }
   ],
   "source": [
    "generation = m.generate(inputs, max_new_tokens=100)\n",
    "generation"
   ]
  },
  {
   "cell_type": "code",
   "execution_count": 160,
   "metadata": {},
   "outputs": [
    {
     "name": "stdout",
     "output_type": "stream",
     "text": [
      "\n",
      "GvGrhqe Y;cickLcYybJXf'&VzjhDbWO..$kMhyDw?FTcQnFCmpdDAmetcF&LJhh:oNjX3'rxrMI?ETI\n",
      "yBw,jdNXd  AWHOaiwO\n"
     ]
    }
   ],
   "source": [
    "print(decode(generation.squeeze().tolist()))"
   ]
  },
  {
   "cell_type": "markdown",
   "metadata": {},
   "source": [
    "Training"
   ]
  },
  {
   "cell_type": "code",
   "execution_count": 161,
   "metadata": {},
   "outputs": [],
   "source": [
    "# initialize Adam optimizer with bigram model params\n",
    "optimizer = torch.optim.AdamW(m.parameters(), lr=1e-3)"
   ]
  },
  {
   "cell_type": "code",
   "execution_count": 162,
   "metadata": {},
   "outputs": [
    {
     "name": "stdout",
     "output_type": "stream",
     "text": [
      "4.610204219818115\n",
      "3.6542091369628906\n",
      "3.1350882053375244\n",
      "2.7605016231536865\n",
      "2.66096830368042\n",
      "2.5715842247009277\n",
      "2.520346164703369\n",
      "2.5460145473480225\n",
      "2.6075916290283203\n",
      "2.6352434158325195\n",
      "2.654296636581421\n"
     ]
    }
   ],
   "source": [
    "batch_size = 32\n",
    "\n",
    "for steps in range(1, 10001):\n",
    "    # get sample batch\n",
    "    xb, yb = get_batch(\"train\")\n",
    "    # calculate loss\n",
    "    logits, loss = m(xb, yb)\n",
    "    # set gradients to zero\n",
    "    optimizer.zero_grad(set_to_none=True)\n",
    "    # calculate gradients\n",
    "    loss.backward()\n",
    "    # update parameters\n",
    "    optimizer.step()\n",
    "\n",
    "    if steps % 1000 == 0 or steps == 1:\n",
    "        print(loss.item())"
   ]
  },
  {
   "cell_type": "markdown",
   "metadata": {},
   "source": [
    "Generation after training"
   ]
  },
  {
   "cell_type": "code",
   "execution_count": 163,
   "metadata": {},
   "outputs": [
    {
     "name": "stdout",
     "output_type": "stream",
     "text": [
      "\n",
      "US:\n",
      "Sesve her yos illaut!\n",
      "Th y thallin\n",
      "\n",
      "Micthe o, wn handssthisthoff t mat ictten w:\n",
      "sul aresit ofo'Thinjesous and tyom\n",
      "Tou:p-\n",
      "inis semid!\n",
      "\n",
      "AMay se falalsh O:\n",
      "Thavorme RKEniro afrse Mua f Widrte icr,\n",
      "\n"
     ]
    }
   ],
   "source": [
    "inputs = torch.zeros((1, 1), dtype=torch.long)\n",
    "generation = m.generate(inputs, max_new_tokens=200)\n",
    "print(\"\".join(decode(generation.squeeze().tolist())))"
   ]
  }
 ],
 "metadata": {
  "kernelspec": {
   "display_name": "env",
   "language": "python",
   "name": "python3"
  },
  "language_info": {
   "codemirror_mode": {
    "name": "ipython",
    "version": 3
   },
   "file_extension": ".py",
   "mimetype": "text/x-python",
   "name": "python",
   "nbconvert_exporter": "python",
   "pygments_lexer": "ipython3",
   "version": "3.11.5"
  }
 },
 "nbformat": 4,
 "nbformat_minor": 2
}
